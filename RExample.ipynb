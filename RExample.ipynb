{
 "cells": [
  {
   "cell_type": "markdown",
   "metadata": {},
   "source": [
    "# R Example of Dummy MRIO Sheet from Eora Structure"
   ]
  },
  {
   "cell_type": "markdown",
   "metadata": {},
   "source": [
    "## 1. Load Eora data"
   ]
  },
  {
   "cell_type": "code",
   "execution_count": 1,
   "metadata": {},
   "outputs": [
    {
     "name": "stderr",
     "output_type": "stream",
     "text": [
      "Warning message:\n",
      "\"package 'readxl' was built under R version 3.5.3\"New names:\n",
      "* `` -> `..1`\n",
      "* `` -> `..2`\n",
      "* `` -> `..3`\n",
      "* `` -> `..4`\n",
      "* `` -> `..5`\n",
      "* ... and 21 more\n"
     ]
    }
   ],
   "source": [
    "library(readxl)\n",
    "eora <- read_excel(\"T:/Documents/Data/Eora/Eora26Structure.xlsx\", \n",
    "                   sheet = \"Dummy MRIO\")"
   ]
  },
  {
   "cell_type": "code",
   "execution_count": 2,
   "metadata": {},
   "outputs": [
    {
     "data": {
      "text/html": [
       "<table>\n",
       "<thead><tr><th></th><th scope=col>Country 1</th><th scope=col>Country 1</th><th scope=col>Country 1</th><th scope=col>Country 1</th><th scope=col>Country 2</th><th scope=col>Country 2</th><th scope=col>Country 2</th><th scope=col>Country 2</th><th scope=col>Country 3</th><th scope=col>Country 3</th><th scope=col>Country 3</th><th scope=col>Country 3</th></tr></thead>\n",
       "<tbody>\n",
       "\t<tr><th scope=row>Country 1</th><td>345.92537 </td><td>156.29710 </td><td> 94.773838</td><td>594.36302 </td><td>818.90862 </td><td>154.47202 </td><td>831.78747 </td><td>396.7655  </td><td>409.4713  </td><td>561.93405 </td><td>241.39101 </td><td>553.50754 </td></tr>\n",
       "\t<tr><th scope=row>Country 1</th><td>353.67782 </td><td>443.38415 </td><td>  6.601578</td><td>908.44157 </td><td> 41.70612 </td><td> 91.76764 </td><td>560.78738 </td><td>839.2272  </td><td>469.9784  </td><td>769.94410 </td><td> 82.97749 </td><td>368.48080 </td></tr>\n",
       "\t<tr><th scope=row>Country 1</th><td>290.58201 </td><td>795.36054 </td><td>243.216450</td><td>825.02972 </td><td>752.65023 </td><td>  1.51433 </td><td>340.49938 </td><td>231.6545  </td><td>251.1602  </td><td>604.70932 </td><td>525.75681 </td><td>610.35177 </td></tr>\n",
       "\t<tr><th scope=row>Country 1</th><td>636.97143 </td><td>259.41512 </td><td>289.089507</td><td>813.31944 </td><td>499.77007 </td><td>715.79673 </td><td>947.10830 </td><td>645.4104  </td><td>855.7365  </td><td>221.14560 </td><td>898.34740 </td><td> 41.25019 </td></tr>\n",
       "\t<tr><th scope=row>Country 2</th><td>547.09590 </td><td>465.59901 </td><td>909.680644</td><td>276.26628 </td><td>517.65408 </td><td>148.86855 </td><td>779.49701 </td><td>553.3183  </td><td>196.6130  </td><td>284.80233 </td><td>304.81056 </td><td>827.63380 </td></tr>\n",
       "\t<tr><th scope=row>Country 2</th><td>751.72194 </td><td>936.47786 </td><td>822.267984</td><td>637.55738 </td><td>610.78292 </td><td>496.03097 </td><td> 98.34039 </td><td>924.2476  </td><td>607.8752  </td><td>688.91067 </td><td>872.05625 </td><td>972.07931 </td></tr>\n",
       "\t<tr><th scope=row>Country 2</th><td>294.55573 </td><td>443.99458 </td><td>  6.532251</td><td>828.27587 </td><td>928.52801 </td><td>534.91191 </td><td>366.73892 </td><td>257.3907  </td><td>890.0158  </td><td>428.72108 </td><td>641.34012 </td><td> 25.91312 </td></tr>\n",
       "\t<tr><th scope=row>Country 2</th><td>112.79364 </td><td>517.81622 </td><td>790.673340</td><td>459.01176 </td><td> 78.75666 </td><td>748.32658 </td><td>253.90985 </td><td>217.9365  </td><td>586.4292  </td><td>672.84959 </td><td>424.47694 </td><td>157.34046 </td></tr>\n",
       "\t<tr><th scope=row>Country 3</th><td> 45.95837 </td><td>456.93506 </td><td>552.078556</td><td>571.87426 </td><td>632.46713 </td><td>679.71967 </td><td>729.65041 </td><td>607.3659  </td><td>796.1890  </td><td>185.50372 </td><td> 14.64301 </td><td>957.74206 </td></tr>\n",
       "\t<tr><th scope=row>Country 3</th><td>962.44312 </td><td> 96.49111 </td><td>544.258259</td><td> 95.85785 </td><td>674.53813 </td><td>113.07022 </td><td>711.28870 </td><td>336.5902  </td><td>787.4245  </td><td>570.90367 </td><td>241.44184 </td><td>210.65994 </td></tr>\n",
       "\t<tr><th scope=row>Country 3</th><td>530.51608 </td><td>190.08014 </td><td>686.489211</td><td>191.29739 </td><td>374.31324 </td><td>615.15819 </td><td>788.15318 </td><td>738.0753  </td><td>351.3239  </td><td> 31.85559 </td><td>564.83348 </td><td>622.10451 </td></tr>\n",
       "\t<tr><th scope=row>Country 3</th><td>857.05368 </td><td>775.54460 </td><td>896.669941</td><td> 18.45590 </td><td>914.85331 </td><td>481.89282 </td><td>307.89126 </td><td>457.9431  </td><td>252.8967  </td><td>145.30267 </td><td>982.33828 </td><td>269.73060 </td></tr>\n",
       "</tbody>\n",
       "</table>\n"
      ],
      "text/latex": [
       "\\begin{tabular}{r|llllllllllll}\n",
       "  & Country 1 & Country 1 & Country 1 & Country 1 & Country 2 & Country 2 & Country 2 & Country 2 & Country 3 & Country 3 & Country 3 & Country 3\\\\\n",
       "\\hline\n",
       "\tCountry 1 & 345.92537  & 156.29710  &  94.773838 & 594.36302  & 818.90862  & 154.47202  & 831.78747  & 396.7655   & 409.4713   & 561.93405  & 241.39101  & 553.50754 \\\\\n",
       "\tCountry 1 & 353.67782  & 443.38415  &   6.601578 & 908.44157  &  41.70612  &  91.76764  & 560.78738  & 839.2272   & 469.9784   & 769.94410  &  82.97749  & 368.48080 \\\\\n",
       "\tCountry 1 & 290.58201  & 795.36054  & 243.216450 & 825.02972  & 752.65023  &   1.51433  & 340.49938  & 231.6545   & 251.1602   & 604.70932  & 525.75681  & 610.35177 \\\\\n",
       "\tCountry 1 & 636.97143  & 259.41512  & 289.089507 & 813.31944  & 499.77007  & 715.79673  & 947.10830  & 645.4104   & 855.7365   & 221.14560  & 898.34740  &  41.25019 \\\\\n",
       "\tCountry 2 & 547.09590  & 465.59901  & 909.680644 & 276.26628  & 517.65408  & 148.86855  & 779.49701  & 553.3183   & 196.6130   & 284.80233  & 304.81056  & 827.63380 \\\\\n",
       "\tCountry 2 & 751.72194  & 936.47786  & 822.267984 & 637.55738  & 610.78292  & 496.03097  &  98.34039  & 924.2476   & 607.8752   & 688.91067  & 872.05625  & 972.07931 \\\\\n",
       "\tCountry 2 & 294.55573  & 443.99458  &   6.532251 & 828.27587  & 928.52801  & 534.91191  & 366.73892  & 257.3907   & 890.0158   & 428.72108  & 641.34012  &  25.91312 \\\\\n",
       "\tCountry 2 & 112.79364  & 517.81622  & 790.673340 & 459.01176  &  78.75666  & 748.32658  & 253.90985  & 217.9365   & 586.4292   & 672.84959  & 424.47694  & 157.34046 \\\\\n",
       "\tCountry 3 &  45.95837  & 456.93506  & 552.078556 & 571.87426  & 632.46713  & 679.71967  & 729.65041  & 607.3659   & 796.1890   & 185.50372  &  14.64301  & 957.74206 \\\\\n",
       "\tCountry 3 & 962.44312  &  96.49111  & 544.258259 &  95.85785  & 674.53813  & 113.07022  & 711.28870  & 336.5902   & 787.4245   & 570.90367  & 241.44184  & 210.65994 \\\\\n",
       "\tCountry 3 & 530.51608  & 190.08014  & 686.489211 & 191.29739  & 374.31324  & 615.15819  & 788.15318  & 738.0753   & 351.3239   &  31.85559  & 564.83348  & 622.10451 \\\\\n",
       "\tCountry 3 & 857.05368  & 775.54460  & 896.669941 &  18.45590  & 914.85331  & 481.89282  & 307.89126  & 457.9431   & 252.8967   & 145.30267  & 982.33828  & 269.73060 \\\\\n",
       "\\end{tabular}\n"
      ],
      "text/markdown": [
       "\n",
       "| <!--/--> | Country 1 | Country 1 | Country 1 | Country 1 | Country 2 | Country 2 | Country 2 | Country 2 | Country 3 | Country 3 | Country 3 | Country 3 |\n",
       "|---|---|---|---|---|---|---|---|---|---|---|---|---|\n",
       "| Country 1 | 345.92537  | 156.29710  |  94.773838 | 594.36302  | 818.90862  | 154.47202  | 831.78747  | 396.7655   | 409.4713   | 561.93405  | 241.39101  | 553.50754  |\n",
       "| Country 1 | 353.67782  | 443.38415  |   6.601578 | 908.44157  |  41.70612  |  91.76764  | 560.78738  | 839.2272   | 469.9784   | 769.94410  |  82.97749  | 368.48080  |\n",
       "| Country 1 | 290.58201  | 795.36054  | 243.216450 | 825.02972  | 752.65023  |   1.51433  | 340.49938  | 231.6545   | 251.1602   | 604.70932  | 525.75681  | 610.35177  |\n",
       "| Country 1 | 636.97143  | 259.41512  | 289.089507 | 813.31944  | 499.77007  | 715.79673  | 947.10830  | 645.4104   | 855.7365   | 221.14560  | 898.34740  |  41.25019  |\n",
       "| Country 2 | 547.09590  | 465.59901  | 909.680644 | 276.26628  | 517.65408  | 148.86855  | 779.49701  | 553.3183   | 196.6130   | 284.80233  | 304.81056  | 827.63380  |\n",
       "| Country 2 | 751.72194  | 936.47786  | 822.267984 | 637.55738  | 610.78292  | 496.03097  |  98.34039  | 924.2476   | 607.8752   | 688.91067  | 872.05625  | 972.07931  |\n",
       "| Country 2 | 294.55573  | 443.99458  |   6.532251 | 828.27587  | 928.52801  | 534.91191  | 366.73892  | 257.3907   | 890.0158   | 428.72108  | 641.34012  |  25.91312  |\n",
       "| Country 2 | 112.79364  | 517.81622  | 790.673340 | 459.01176  |  78.75666  | 748.32658  | 253.90985  | 217.9365   | 586.4292   | 672.84959  | 424.47694  | 157.34046  |\n",
       "| Country 3 |  45.95837  | 456.93506  | 552.078556 | 571.87426  | 632.46713  | 679.71967  | 729.65041  | 607.3659   | 796.1890   | 185.50372  |  14.64301  | 957.74206  |\n",
       "| Country 3 | 962.44312  |  96.49111  | 544.258259 |  95.85785  | 674.53813  | 113.07022  | 711.28870  | 336.5902   | 787.4245   | 570.90367  | 241.44184  | 210.65994  |\n",
       "| Country 3 | 530.51608  | 190.08014  | 686.489211 | 191.29739  | 374.31324  | 615.15819  | 788.15318  | 738.0753   | 351.3239   |  31.85559  | 564.83348  | 622.10451  |\n",
       "| Country 3 | 857.05368  | 775.54460  | 896.669941 |  18.45590  | 914.85331  | 481.89282  | 307.89126  | 457.9431   | 252.8967   | 145.30267  | 982.33828  | 269.73060  |\n",
       "\n"
      ],
      "text/plain": [
       "          Country 1 Country 1 Country 1  Country 1 Country 2 Country 2\n",
       "Country 1 345.92537 156.29710  94.773838 594.36302 818.90862 154.47202\n",
       "Country 1 353.67782 443.38415   6.601578 908.44157  41.70612  91.76764\n",
       "Country 1 290.58201 795.36054 243.216450 825.02972 752.65023   1.51433\n",
       "Country 1 636.97143 259.41512 289.089507 813.31944 499.77007 715.79673\n",
       "Country 2 547.09590 465.59901 909.680644 276.26628 517.65408 148.86855\n",
       "Country 2 751.72194 936.47786 822.267984 637.55738 610.78292 496.03097\n",
       "Country 2 294.55573 443.99458   6.532251 828.27587 928.52801 534.91191\n",
       "Country 2 112.79364 517.81622 790.673340 459.01176  78.75666 748.32658\n",
       "Country 3  45.95837 456.93506 552.078556 571.87426 632.46713 679.71967\n",
       "Country 3 962.44312  96.49111 544.258259  95.85785 674.53813 113.07022\n",
       "Country 3 530.51608 190.08014 686.489211 191.29739 374.31324 615.15819\n",
       "Country 3 857.05368 775.54460 896.669941  18.45590 914.85331 481.89282\n",
       "          Country 2 Country 2 Country 3 Country 3 Country 3 Country 3\n",
       "Country 1 831.78747 396.7655  409.4713  561.93405 241.39101 553.50754\n",
       "Country 1 560.78738 839.2272  469.9784  769.94410  82.97749 368.48080\n",
       "Country 1 340.49938 231.6545  251.1602  604.70932 525.75681 610.35177\n",
       "Country 1 947.10830 645.4104  855.7365  221.14560 898.34740  41.25019\n",
       "Country 2 779.49701 553.3183  196.6130  284.80233 304.81056 827.63380\n",
       "Country 2  98.34039 924.2476  607.8752  688.91067 872.05625 972.07931\n",
       "Country 2 366.73892 257.3907  890.0158  428.72108 641.34012  25.91312\n",
       "Country 2 253.90985 217.9365  586.4292  672.84959 424.47694 157.34046\n",
       "Country 3 729.65041 607.3659  796.1890  185.50372  14.64301 957.74206\n",
       "Country 3 711.28870 336.5902  787.4245  570.90367 241.44184 210.65994\n",
       "Country 3 788.15318 738.0753  351.3239   31.85559 564.83348 622.10451\n",
       "Country 3 307.89126 457.9431  252.8967  145.30267 982.33828 269.73060"
      ]
     },
     "metadata": {},
     "output_type": "display_data"
    }
   ],
   "source": [
    "T <- data.matrix(eora[4:15,3:14])\n",
    "rownames(T) <- eora[4:15,]$..1\n",
    "colnames(T) <- as.vector(t(eora[2,3:14]))\n",
    "T"
   ]
  },
  {
   "cell_type": "code",
   "execution_count": 3,
   "metadata": {},
   "outputs": [
    {
     "data": {
      "text/html": [
       "<table>\n",
       "<thead><tr><th></th><th scope=col>Country 1</th><th scope=col>Country 1</th><th scope=col>Country 2</th><th scope=col>Country 2</th><th scope=col>Country 3</th><th scope=col>Country 3</th></tr></thead>\n",
       "<tbody>\n",
       "\t<tr><th scope=row>Country 1</th><td>393.63641</td><td>1e-09    </td><td>901.59786</td><td>1e-09    </td><td>446.05979</td><td>1e-09    </td></tr>\n",
       "\t<tr><th scope=row>Country 1</th><td>513.78872</td><td>1e-09    </td><td>693.99818</td><td>1e-09    </td><td>512.33101</td><td>1e-09    </td></tr>\n",
       "\t<tr><th scope=row>Country 1</th><td>383.66912</td><td>1e-09    </td><td>752.84360</td><td>1e-09    </td><td>908.85828</td><td>1e-09    </td></tr>\n",
       "\t<tr><th scope=row>Country 1</th><td> 91.17596</td><td>1e-09    </td><td>652.63923</td><td>1e-09    </td><td>300.92649</td><td>1e-09    </td></tr>\n",
       "\t<tr><th scope=row>Country 2</th><td>630.06971</td><td>1e-09    </td><td>565.31156</td><td>1e-09    </td><td>857.11309</td><td>1e-09    </td></tr>\n",
       "\t<tr><th scope=row>Country 2</th><td>847.21181</td><td>1e-09    </td><td>209.07146</td><td>1e-09    </td><td> 36.65048</td><td>1e-09    </td></tr>\n",
       "\t<tr><th scope=row>Country 2</th><td>164.99671</td><td>1e-09    </td><td>419.02582</td><td>1e-09    </td><td>885.87076</td><td>1e-09    </td></tr>\n",
       "\t<tr><th scope=row>Country 2</th><td>799.75493</td><td>1e-09    </td><td>355.38352</td><td>1e-09    </td><td>501.08803</td><td>1e-09    </td></tr>\n",
       "\t<tr><th scope=row>Country 3</th><td>337.64087</td><td>1e-09    </td><td>320.10529</td><td>1e-09    </td><td>193.70410</td><td>1e-09    </td></tr>\n",
       "\t<tr><th scope=row>Country 3</th><td>478.79063</td><td>1e-09    </td><td> 13.61013</td><td>1e-09    </td><td>607.55478</td><td>1e-09    </td></tr>\n",
       "\t<tr><th scope=row>Country 3</th><td>268.94036</td><td>1e-09    </td><td>814.21006</td><td>1e-09    </td><td>559.06768</td><td>1e-09    </td></tr>\n",
       "\t<tr><th scope=row>Country 3</th><td>700.38708</td><td>1e-09    </td><td>822.04530</td><td>1e-09    </td><td>728.69122</td><td>1e-09    </td></tr>\n",
       "</tbody>\n",
       "</table>\n"
      ],
      "text/latex": [
       "\\begin{tabular}{r|llllll}\n",
       "  & Country 1 & Country 1 & Country 2 & Country 2 & Country 3 & Country 3\\\\\n",
       "\\hline\n",
       "\tCountry 1 & 393.63641 & 1e-09     & 901.59786 & 1e-09     & 446.05979 & 1e-09    \\\\\n",
       "\tCountry 1 & 513.78872 & 1e-09     & 693.99818 & 1e-09     & 512.33101 & 1e-09    \\\\\n",
       "\tCountry 1 & 383.66912 & 1e-09     & 752.84360 & 1e-09     & 908.85828 & 1e-09    \\\\\n",
       "\tCountry 1 &  91.17596 & 1e-09     & 652.63923 & 1e-09     & 300.92649 & 1e-09    \\\\\n",
       "\tCountry 2 & 630.06971 & 1e-09     & 565.31156 & 1e-09     & 857.11309 & 1e-09    \\\\\n",
       "\tCountry 2 & 847.21181 & 1e-09     & 209.07146 & 1e-09     &  36.65048 & 1e-09    \\\\\n",
       "\tCountry 2 & 164.99671 & 1e-09     & 419.02582 & 1e-09     & 885.87076 & 1e-09    \\\\\n",
       "\tCountry 2 & 799.75493 & 1e-09     & 355.38352 & 1e-09     & 501.08803 & 1e-09    \\\\\n",
       "\tCountry 3 & 337.64087 & 1e-09     & 320.10529 & 1e-09     & 193.70410 & 1e-09    \\\\\n",
       "\tCountry 3 & 478.79063 & 1e-09     &  13.61013 & 1e-09     & 607.55478 & 1e-09    \\\\\n",
       "\tCountry 3 & 268.94036 & 1e-09     & 814.21006 & 1e-09     & 559.06768 & 1e-09    \\\\\n",
       "\tCountry 3 & 700.38708 & 1e-09     & 822.04530 & 1e-09     & 728.69122 & 1e-09    \\\\\n",
       "\\end{tabular}\n"
      ],
      "text/markdown": [
       "\n",
       "| <!--/--> | Country 1 | Country 1 | Country 2 | Country 2 | Country 3 | Country 3 |\n",
       "|---|---|---|---|---|---|---|\n",
       "| Country 1 | 393.63641 | 1e-09     | 901.59786 | 1e-09     | 446.05979 | 1e-09     |\n",
       "| Country 1 | 513.78872 | 1e-09     | 693.99818 | 1e-09     | 512.33101 | 1e-09     |\n",
       "| Country 1 | 383.66912 | 1e-09     | 752.84360 | 1e-09     | 908.85828 | 1e-09     |\n",
       "| Country 1 |  91.17596 | 1e-09     | 652.63923 | 1e-09     | 300.92649 | 1e-09     |\n",
       "| Country 2 | 630.06971 | 1e-09     | 565.31156 | 1e-09     | 857.11309 | 1e-09     |\n",
       "| Country 2 | 847.21181 | 1e-09     | 209.07146 | 1e-09     |  36.65048 | 1e-09     |\n",
       "| Country 2 | 164.99671 | 1e-09     | 419.02582 | 1e-09     | 885.87076 | 1e-09     |\n",
       "| Country 2 | 799.75493 | 1e-09     | 355.38352 | 1e-09     | 501.08803 | 1e-09     |\n",
       "| Country 3 | 337.64087 | 1e-09     | 320.10529 | 1e-09     | 193.70410 | 1e-09     |\n",
       "| Country 3 | 478.79063 | 1e-09     |  13.61013 | 1e-09     | 607.55478 | 1e-09     |\n",
       "| Country 3 | 268.94036 | 1e-09     | 814.21006 | 1e-09     | 559.06768 | 1e-09     |\n",
       "| Country 3 | 700.38708 | 1e-09     | 822.04530 | 1e-09     | 728.69122 | 1e-09     |\n",
       "\n"
      ],
      "text/plain": [
       "          Country 1 Country 1 Country 2 Country 2 Country 3 Country 3\n",
       "Country 1 393.63641 1e-09     901.59786 1e-09     446.05979 1e-09    \n",
       "Country 1 513.78872 1e-09     693.99818 1e-09     512.33101 1e-09    \n",
       "Country 1 383.66912 1e-09     752.84360 1e-09     908.85828 1e-09    \n",
       "Country 1  91.17596 1e-09     652.63923 1e-09     300.92649 1e-09    \n",
       "Country 2 630.06971 1e-09     565.31156 1e-09     857.11309 1e-09    \n",
       "Country 2 847.21181 1e-09     209.07146 1e-09      36.65048 1e-09    \n",
       "Country 2 164.99671 1e-09     419.02582 1e-09     885.87076 1e-09    \n",
       "Country 2 799.75493 1e-09     355.38352 1e-09     501.08803 1e-09    \n",
       "Country 3 337.64087 1e-09     320.10529 1e-09     193.70410 1e-09    \n",
       "Country 3 478.79063 1e-09      13.61013 1e-09     607.55478 1e-09    \n",
       "Country 3 268.94036 1e-09     814.21006 1e-09     559.06768 1e-09    \n",
       "Country 3 700.38708 1e-09     822.04530 1e-09     728.69122 1e-09    "
      ]
     },
     "metadata": {},
     "output_type": "display_data"
    }
   ],
   "source": [
    "FD <- data.matrix(eora[4:15,16:21])\n",
    "rownames(FD) <- eora[4:15,1:14]$..1\n",
    "colnames(FD) <- as.vector(t(eora[1,16:21]))\n",
    "FD"
   ]
  },
  {
   "cell_type": "code",
   "execution_count": 4,
   "metadata": {},
   "outputs": [
    {
     "data": {
      "text/html": [
       "<table>\n",
       "<thead><tr><th></th><th scope=col>Country 1</th><th scope=col>Country 1</th><th scope=col>Country 1</th><th scope=col>Country 1</th><th scope=col>Country 2</th><th scope=col>Country 2</th><th scope=col>Country 2</th><th scope=col>Country 2</th><th scope=col>Country 3</th><th scope=col>Country 3</th><th scope=col>Country 3</th><th scope=col>Country 3</th></tr></thead>\n",
       "<tbody>\n",
       "\t<tr><th scope=row>Country 1</th><td>1171.596</td><td>1119.697</td><td>1675.525</td><td>1648.352</td><td>   0.000</td><td>   0.000</td><td>  0.0000</td><td>  0.0000</td><td>  0.0000</td><td>   0.000</td><td>   0.000</td><td>   0.000</td></tr>\n",
       "\t<tr><th scope=row>Country 2</th><td>   0.000</td><td>   0.000</td><td>   0.000</td><td>   0.000</td><td>1019.405</td><td>4729.753</td><td>401.1592</td><td>470.6218</td><td>  0.0000</td><td>   0.000</td><td>   0.000</td><td>   0.000</td></tr>\n",
       "\t<tr><th scope=row>Country 3</th><td>   0.000</td><td>   0.000</td><td>   0.000</td><td>   0.000</td><td>   0.000</td><td>   0.000</td><td>  0.0000</td><td>  0.0000</td><td>626.4636</td><td>1278.341</td><td>1532.005</td><td>2994.902</td></tr>\n",
       "</tbody>\n",
       "</table>\n"
      ],
      "text/latex": [
       "\\begin{tabular}{r|llllllllllll}\n",
       "  & Country 1 & Country 1 & Country 1 & Country 1 & Country 2 & Country 2 & Country 2 & Country 2 & Country 3 & Country 3 & Country 3 & Country 3\\\\\n",
       "\\hline\n",
       "\tCountry 1 & 1171.596 & 1119.697 & 1675.525 & 1648.352 &    0.000 &    0.000 &   0.0000 &   0.0000 &   0.0000 &    0.000 &    0.000 &    0.000\\\\\n",
       "\tCountry 2 &    0.000 &    0.000 &    0.000 &    0.000 & 1019.405 & 4729.753 & 401.1592 & 470.6218 &   0.0000 &    0.000 &    0.000 &    0.000\\\\\n",
       "\tCountry 3 &    0.000 &    0.000 &    0.000 &    0.000 &    0.000 &    0.000 &   0.0000 &   0.0000 & 626.4636 & 1278.341 & 1532.005 & 2994.902\\\\\n",
       "\\end{tabular}\n"
      ],
      "text/markdown": [
       "\n",
       "| <!--/--> | Country 1 | Country 1 | Country 1 | Country 1 | Country 2 | Country 2 | Country 2 | Country 2 | Country 3 | Country 3 | Country 3 | Country 3 |\n",
       "|---|---|---|---|---|---|---|---|---|---|---|---|---|\n",
       "| Country 1 | 1171.596 | 1119.697 | 1675.525 | 1648.352 |    0.000 |    0.000 |   0.0000 |   0.0000 |   0.0000 |    0.000 |    0.000 |    0.000 |\n",
       "| Country 2 |    0.000 |    0.000 |    0.000 |    0.000 | 1019.405 | 4729.753 | 401.1592 | 470.6218 |   0.0000 |    0.000 |    0.000 |    0.000 |\n",
       "| Country 3 |    0.000 |    0.000 |    0.000 |    0.000 |    0.000 |    0.000 |   0.0000 |   0.0000 | 626.4636 | 1278.341 | 1532.005 | 2994.902 |\n",
       "\n"
      ],
      "text/plain": [
       "          Country 1 Country 1 Country 1 Country 1 Country 2 Country 2 Country 2\n",
       "Country 1 1171.596  1119.697  1675.525  1648.352     0.000     0.000    0.0000 \n",
       "Country 2    0.000     0.000     0.000     0.000  1019.405  4729.753  401.1592 \n",
       "Country 3    0.000     0.000     0.000     0.000     0.000     0.000    0.0000 \n",
       "          Country 2 Country 3 Country 3 Country 3 Country 3\n",
       "Country 1   0.0000    0.0000     0.000     0.000     0.000 \n",
       "Country 2 470.6218    0.0000     0.000     0.000     0.000 \n",
       "Country 3   0.0000  626.4636  1278.341  1532.005  2994.902 "
      ]
     },
     "metadata": {},
     "output_type": "display_data"
    }
   ],
   "source": [
    "VA <- data.matrix(eora[18:20,3:14])\n",
    "rownames(VA) <- eora[18:20,]$..1\n",
    "colnames(VA) <- as.vector(t(eora[2,3:14]))\n",
    "VA"
   ]
  },
  {
   "cell_type": "code",
   "execution_count": 5,
   "metadata": {},
   "outputs": [
    {
     "data": {
      "text/html": [
       "<table>\n",
       "<thead><tr><th></th><th scope=col>Country 1</th><th scope=col>Country 1</th><th scope=col>Country 1</th><th scope=col>Country 1</th><th scope=col>Country 2</th><th scope=col>Country 2</th><th scope=col>Country 2</th><th scope=col>Country 2</th><th scope=col>Country 3</th><th scope=col>Country 3</th><th scope=col>Country 3</th><th scope=col>Country 3</th></tr></thead>\n",
       "<tbody>\n",
       "\t<tr><th scope=row>Direct Emissions</th><td>300</td><td>320</td><td>280</td><td>400</td><td>400</td><td>320</td><td>200</td><td>150</td><td>400</td><td>230</td><td>400</td><td>500</td></tr>\n",
       "</tbody>\n",
       "</table>\n"
      ],
      "text/latex": [
       "\\begin{tabular}{r|llllllllllll}\n",
       "  & Country 1 & Country 1 & Country 1 & Country 1 & Country 2 & Country 2 & Country 2 & Country 2 & Country 3 & Country 3 & Country 3 & Country 3\\\\\n",
       "\\hline\n",
       "\tDirect Emissions & 300 & 320 & 280 & 400 & 400 & 320 & 200 & 150 & 400 & 230 & 400 & 500\\\\\n",
       "\\end{tabular}\n"
      ],
      "text/markdown": [
       "\n",
       "| <!--/--> | Country 1 | Country 1 | Country 1 | Country 1 | Country 2 | Country 2 | Country 2 | Country 2 | Country 3 | Country 3 | Country 3 | Country 3 |\n",
       "|---|---|---|---|---|---|---|---|---|---|---|---|---|\n",
       "| Direct Emissions | 300 | 320 | 280 | 400 | 400 | 320 | 200 | 150 | 400 | 230 | 400 | 500 |\n",
       "\n"
      ],
      "text/plain": [
       "                 Country 1 Country 1 Country 1 Country 1 Country 2 Country 2\n",
       "Direct Emissions 300       320       280       400       400       320      \n",
       "                 Country 2 Country 2 Country 3 Country 3 Country 3 Country 3\n",
       "Direct Emissions 200       150       400       230       400       500      "
      ]
     },
     "metadata": {},
     "output_type": "display_data"
    }
   ],
   "source": [
    "Q <- data.matrix(eora[25,3:14])\n",
    "row.names(Q) <- \"Direct Emissions\"\n",
    "colnames(Q) <- as.vector(t(eora[2,3:14]))\n",
    "Q"
   ]
  },
  {
   "cell_type": "markdown",
   "metadata": {},
   "source": [
    "## 2. Create other variables"
   ]
  },
  {
   "cell_type": "code",
   "execution_count": 6,
   "metadata": {},
   "outputs": [
    {
     "data": {
      "text/html": [
       "<dl class=dl-horizontal>\n",
       "\t<dt>Country 1</dt>\n",
       "\t\t<dd>6900.89095812979</dd>\n",
       "\t<dt>Country 1</dt>\n",
       "\t\t<dd>6657.09223015262</dd>\n",
       "\t<dt>Country 1</dt>\n",
       "\t\t<dd>7517.85625864122</dd>\n",
       "\t<dt>Country 1</dt>\n",
       "\t\t<dd>7868.10237570366</dd>\n",
       "\t<dt>Country 2</dt>\n",
       "\t\t<dd>7864.33386990235</dd>\n",
       "\t<dt>Country 2</dt>\n",
       "\t\t<dd>9511.28222656452</dd>\n",
       "\t<dt>Country 2</dt>\n",
       "\t\t<dd>7116.81139858193</dd>\n",
       "\t<dt>Country 2</dt>\n",
       "\t\t<dd>6676.54721832807</dd>\n",
       "\t<dt>Country 3</dt>\n",
       "\t\t<dd>7081.57739393741</dd>\n",
       "\t<dt>Country 3</dt>\n",
       "\t\t<dd>6444.92304723686</dd>\n",
       "\t<dt>Country 3</dt>\n",
       "\t\t<dd>7326.41837334068</dd>\n",
       "\t<dt>Country 3</dt>\n",
       "\t\t<dd>8611.69653348116</dd>\n",
       "</dl>\n"
      ],
      "text/latex": [
       "\\begin{description*}\n",
       "\\item[Country 1] 6900.89095812979\n",
       "\\item[Country 1] 6657.09223015262\n",
       "\\item[Country 1] 7517.85625864122\n",
       "\\item[Country 1] 7868.10237570366\n",
       "\\item[Country 2] 7864.33386990235\n",
       "\\item[Country 2] 9511.28222656452\n",
       "\\item[Country 2] 7116.81139858193\n",
       "\\item[Country 2] 6676.54721832807\n",
       "\\item[Country 3] 7081.57739393741\n",
       "\\item[Country 3] 6444.92304723686\n",
       "\\item[Country 3] 7326.41837334068\n",
       "\\item[Country 3] 8611.69653348116\n",
       "\\end{description*}\n"
      ],
      "text/markdown": [
       "Country 1\n",
       ":   6900.89095812979Country 1\n",
       ":   6657.09223015262Country 1\n",
       ":   7517.85625864122Country 1\n",
       ":   7868.10237570366Country 2\n",
       ":   7864.33386990235Country 2\n",
       ":   9511.28222656452Country 2\n",
       ":   7116.81139858193Country 2\n",
       ":   6676.54721832807Country 3\n",
       ":   7081.57739393741Country 3\n",
       ":   6444.92304723686Country 3\n",
       ":   7326.41837334068Country 3\n",
       ":   8611.69653348116\n",
       "\n"
      ],
      "text/plain": [
       "Country 1 Country 1 Country 1 Country 1 Country 2 Country 2 Country 2 Country 2 \n",
       " 6900.891  6657.092  7517.856  7868.102  7864.334  9511.282  7116.811  6676.547 \n",
       "Country 3 Country 3 Country 3 Country 3 \n",
       " 7081.577  6444.923  7326.418  8611.697 "
      ]
     },
     "metadata": {},
     "output_type": "display_data"
    }
   ],
   "source": [
    "xout <- rowSums(T) + rowSums(FD)\n",
    "xout"
   ]
  },
  {
   "cell_type": "code",
   "execution_count": 7,
   "metadata": {},
   "outputs": [
    {
     "data": {
      "text/html": [
       "<table>\n",
       "<thead><tr><th scope=col>Country 1</th><th scope=col>Country 1</th><th scope=col>Country 1</th><th scope=col>Country 1</th><th scope=col>Country 2</th><th scope=col>Country 2</th><th scope=col>Country 2</th><th scope=col>Country 2</th><th scope=col>Country 3</th><th scope=col>Country 3</th><th scope=col>Country 3</th><th scope=col>Country 3</th></tr></thead>\n",
       "<tbody>\n",
       "\t<tr><td>6900.891</td><td>6657.092</td><td>7517.856</td><td>7868.102</td><td>7864.334</td><td>9511.282</td><td>7116.811</td><td>6676.547</td><td>7081.577</td><td>6444.923</td><td>7326.418</td><td>8611.697</td></tr>\n",
       "</tbody>\n",
       "</table>\n"
      ],
      "text/latex": [
       "\\begin{tabular}{llllllllllll}\n",
       " Country 1 & Country 1 & Country 1 & Country 1 & Country 2 & Country 2 & Country 2 & Country 2 & Country 3 & Country 3 & Country 3 & Country 3\\\\\n",
       "\\hline\n",
       "\t 6900.891 & 6657.092 & 7517.856 & 7868.102 & 7864.334 & 9511.282 & 7116.811 & 6676.547 & 7081.577 & 6444.923 & 7326.418 & 8611.697\\\\\n",
       "\\end{tabular}\n"
      ],
      "text/markdown": [
       "\n",
       "| Country 1 | Country 1 | Country 1 | Country 1 | Country 2 | Country 2 | Country 2 | Country 2 | Country 3 | Country 3 | Country 3 | Country 3 |\n",
       "|---|---|---|---|---|---|---|---|---|---|---|---|\n",
       "| 6900.891 | 6657.092 | 7517.856 | 7868.102 | 7864.334 | 9511.282 | 7116.811 | 6676.547 | 7081.577 | 6444.923 | 7326.418 | 8611.697 |\n",
       "\n"
      ],
      "text/plain": [
       "     Country 1 Country 1 Country 1 Country 1 Country 2 Country 2 Country 2\n",
       "[1,] 6900.891  6657.092  7517.856  7868.102  7864.334  9511.282  7116.811 \n",
       "     Country 2 Country 3 Country 3 Country 3 Country 3\n",
       "[1,] 6676.547  7081.577  6444.923  7326.418  8611.697 "
      ]
     },
     "metadata": {},
     "output_type": "display_data"
    }
   ],
   "source": [
    "totalinput <- t(xout)\n",
    "totalinput"
   ]
  },
  {
   "cell_type": "code",
   "execution_count": 8,
   "metadata": {},
   "outputs": [
    {
     "data": {
      "text/html": [
       "<table>\n",
       "<thead><tr><th></th><th scope=col>Country 1</th><th scope=col>Country 1</th><th scope=col>Country 1</th><th scope=col>Country 1</th><th scope=col>Country 2</th><th scope=col>Country 2</th><th scope=col>Country 2</th><th scope=col>Country 2</th><th scope=col>Country 3</th><th scope=col>Country 3</th><th scope=col>Country 3</th><th scope=col>Country 3</th></tr></thead>\n",
       "<tbody>\n",
       "\t<tr><th scope=row>Direct Emissions</th><td>0.04347265</td><td>0.04806904</td><td>0.03724466</td><td>0.05083818</td><td>0.05086254</td><td>0.03364425</td><td>0.02810247</td><td>0.0224667 </td><td>0.05648459</td><td>0.035687  </td><td>0.05459694</td><td>0.05806057</td></tr>\n",
       "</tbody>\n",
       "</table>\n"
      ],
      "text/latex": [
       "\\begin{tabular}{r|llllllllllll}\n",
       "  & Country 1 & Country 1 & Country 1 & Country 1 & Country 2 & Country 2 & Country 2 & Country 2 & Country 3 & Country 3 & Country 3 & Country 3\\\\\n",
       "\\hline\n",
       "\tDirect Emissions & 0.04347265 & 0.04806904 & 0.03724466 & 0.05083818 & 0.05086254 & 0.03364425 & 0.02810247 & 0.0224667  & 0.05648459 & 0.035687   & 0.05459694 & 0.05806057\\\\\n",
       "\\end{tabular}\n"
      ],
      "text/markdown": [
       "\n",
       "| <!--/--> | Country 1 | Country 1 | Country 1 | Country 1 | Country 2 | Country 2 | Country 2 | Country 2 | Country 3 | Country 3 | Country 3 | Country 3 |\n",
       "|---|---|---|---|---|---|---|---|---|---|---|---|---|\n",
       "| Direct Emissions | 0.04347265 | 0.04806904 | 0.03724466 | 0.05083818 | 0.05086254 | 0.03364425 | 0.02810247 | 0.0224667  | 0.05648459 | 0.035687   | 0.05459694 | 0.05806057 |\n",
       "\n"
      ],
      "text/plain": [
       "                 Country 1  Country 1  Country 1  Country 1  Country 2 \n",
       "Direct Emissions 0.04347265 0.04806904 0.03724466 0.05083818 0.05086254\n",
       "                 Country 2  Country 2  Country 2 Country 3  Country 3\n",
       "Direct Emissions 0.03364425 0.02810247 0.0224667 0.05648459 0.035687 \n",
       "                 Country 3  Country 3 \n",
       "Direct Emissions 0.05459694 0.05806057"
      ]
     },
     "metadata": {},
     "output_type": "display_data"
    }
   ],
   "source": [
    "E <- Q / totalinput\n",
    "E"
   ]
  },
  {
   "cell_type": "code",
   "execution_count": 9,
   "metadata": {},
   "outputs": [
    {
     "data": {
      "text/html": [
       "<table>\n",
       "<thead><tr><th></th><th scope=col>Country 1</th><th scope=col>Country 1</th><th scope=col>Country 1</th><th scope=col>Country 1</th><th scope=col>Country 2</th><th scope=col>Country 2</th><th scope=col>Country 2</th><th scope=col>Country 2</th><th scope=col>Country 3</th><th scope=col>Country 3</th><th scope=col>Country 3</th><th scope=col>Country 3</th></tr></thead>\n",
       "<tbody>\n",
       "\t<tr><th scope=row>Country 1</th><td>0.050127639 </td><td>0.02347828  </td><td>0.0126064977</td><td>0.075540834 </td><td>0.104129432 </td><td>0.0162409248</td><td>0.11687642  </td><td>0.05942676  </td><td>0.05782205  </td><td>0.087190187 </td><td>0.032948024 </td><td>0.064273925 </td></tr>\n",
       "\t<tr><th scope=row>Country 1</th><td>0.051251038 </td><td>0.06660328  </td><td>0.0008781198</td><td>0.115458789 </td><td>0.005303198 </td><td>0.0096482928</td><td>0.07879756  </td><td>0.12569779  </td><td>0.06636635  </td><td>0.119465212 </td><td>0.011325792 </td><td>0.042788409 </td></tr>\n",
       "\t<tr><th scope=row>Country 1</th><td>0.042107897 </td><td>0.11947567  </td><td>0.0323518356</td><td>0.104857522 </td><td>0.095704257 </td><td>0.0001592141</td><td>0.04784437  </td><td>0.03469675  </td><td>0.03546670  </td><td>0.093827237 </td><td>0.071761778 </td><td>0.070874742 </td></tr>\n",
       "\t<tr><th scope=row>Country 1</th><td>0.092302781 </td><td>0.03896823  </td><td>0.0384537156</td><td>0.103369199 </td><td>0.063548938 </td><td>0.0752576480</td><td>0.13308043  </td><td>0.09666830  </td><td>0.12083981  </td><td>0.034313148 </td><td>0.122617541 </td><td>0.004790019 </td></tr>\n",
       "\t<tr><th scope=row>Country 2</th><td>0.079279023 </td><td>0.06994030  </td><td>0.1210026652</td><td>0.035112187 </td><td>0.065823004 </td><td>0.0156517856</td><td>0.10952897  </td><td>0.08287492  </td><td>0.02776402  </td><td>0.044190183 </td><td>0.041604307 </td><td>0.096105778 </td></tr>\n",
       "\t<tr><th scope=row>Country 2</th><td>0.108931142 </td><td>0.14067371  </td><td>0.1093753267</td><td>0.081030642 </td><td>0.077664928 </td><td>0.0521518505</td><td>0.01381804  </td><td>0.13843198  </td><td>0.08583895  </td><td>0.106891993 </td><td>0.119028999 </td><td>0.112878955 </td></tr>\n",
       "\t<tr><th scope=row>Country 2</th><td>0.042683725 </td><td>0.06669497  </td><td>0.0008688981</td><td>0.105270093 </td><td>0.118068234 </td><td>0.0562397261</td><td>0.05153135  </td><td>0.03855147  </td><td>0.12568045  </td><td>0.066520745 </td><td>0.087538015 </td><td>0.003009061 </td></tr>\n",
       "\t<tr><th scope=row>Country 2</th><td>0.016344793 </td><td>0.07778414  </td><td>0.1051727132</td><td>0.058338305 </td><td>0.010014409 </td><td>0.0786777807</td><td>0.03567747  </td><td>0.03264210  </td><td>0.08281053  </td><td>0.104399942 </td><td>0.057937852 </td><td>0.018270553 </td></tr>\n",
       "\t<tr><th scope=row>Country 3</th><td>0.006659774 </td><td>0.06863884  </td><td>0.0734356360</td><td>0.072682616 </td><td>0.080422213 </td><td>0.0714645674</td><td>0.10252490  </td><td>0.09097006  </td><td>0.11243102  </td><td>0.028782922 </td><td>0.001998658 </td><td>0.111214097 </td></tr>\n",
       "\t<tr><th scope=row>Country 3</th><td>0.139466502 </td><td>0.01449448  </td><td>0.0723954064</td><td>0.012183096 </td><td>0.085771807 </td><td>0.0118880099</td><td>0.09994486  </td><td>0.05041381  </td><td>0.11119337  </td><td>0.088581921 </td><td>0.032954962 </td><td>0.024462072 </td></tr>\n",
       "\t<tr><th scope=row>Country 3</th><td>0.076876461 </td><td>0.02855303  </td><td>0.0913144901</td><td>0.024313028 </td><td>0.047596306 </td><td>0.0646766835</td><td>0.11074527  </td><td>0.11054746  </td><td>0.04961097  </td><td>0.004942741 </td><td>0.077095444 </td><td>0.072239483 </td></tr>\n",
       "\t<tr><th scope=row>Country 3</th><td>0.124194642 </td><td>0.11649900  </td><td>0.1192720252</td><td>0.002345661 </td><td>0.116329409 </td><td>0.0506653900</td><td>0.04326253  </td><td>0.06858981  </td><td>0.03571192  </td><td>0.022545292 </td><td>0.134081652 </td><td>0.031321424 </td></tr>\n",
       "</tbody>\n",
       "</table>\n"
      ],
      "text/latex": [
       "\\begin{tabular}{r|llllllllllll}\n",
       "  & Country 1 & Country 1 & Country 1 & Country 1 & Country 2 & Country 2 & Country 2 & Country 2 & Country 3 & Country 3 & Country 3 & Country 3\\\\\n",
       "\\hline\n",
       "\tCountry 1 & 0.050127639  & 0.02347828   & 0.0126064977 & 0.075540834  & 0.104129432  & 0.0162409248 & 0.11687642   & 0.05942676   & 0.05782205   & 0.087190187  & 0.032948024  & 0.064273925 \\\\\n",
       "\tCountry 1 & 0.051251038  & 0.06660328   & 0.0008781198 & 0.115458789  & 0.005303198  & 0.0096482928 & 0.07879756   & 0.12569779   & 0.06636635   & 0.119465212  & 0.011325792  & 0.042788409 \\\\\n",
       "\tCountry 1 & 0.042107897  & 0.11947567   & 0.0323518356 & 0.104857522  & 0.095704257  & 0.0001592141 & 0.04784437   & 0.03469675   & 0.03546670   & 0.093827237  & 0.071761778  & 0.070874742 \\\\\n",
       "\tCountry 1 & 0.092302781  & 0.03896823   & 0.0384537156 & 0.103369199  & 0.063548938  & 0.0752576480 & 0.13308043   & 0.09666830   & 0.12083981   & 0.034313148  & 0.122617541  & 0.004790019 \\\\\n",
       "\tCountry 2 & 0.079279023  & 0.06994030   & 0.1210026652 & 0.035112187  & 0.065823004  & 0.0156517856 & 0.10952897   & 0.08287492   & 0.02776402   & 0.044190183  & 0.041604307  & 0.096105778 \\\\\n",
       "\tCountry 2 & 0.108931142  & 0.14067371   & 0.1093753267 & 0.081030642  & 0.077664928  & 0.0521518505 & 0.01381804   & 0.13843198   & 0.08583895   & 0.106891993  & 0.119028999  & 0.112878955 \\\\\n",
       "\tCountry 2 & 0.042683725  & 0.06669497   & 0.0008688981 & 0.105270093  & 0.118068234  & 0.0562397261 & 0.05153135   & 0.03855147   & 0.12568045   & 0.066520745  & 0.087538015  & 0.003009061 \\\\\n",
       "\tCountry 2 & 0.016344793  & 0.07778414   & 0.1051727132 & 0.058338305  & 0.010014409  & 0.0786777807 & 0.03567747   & 0.03264210   & 0.08281053   & 0.104399942  & 0.057937852  & 0.018270553 \\\\\n",
       "\tCountry 3 & 0.006659774  & 0.06863884   & 0.0734356360 & 0.072682616  & 0.080422213  & 0.0714645674 & 0.10252490   & 0.09097006   & 0.11243102   & 0.028782922  & 0.001998658  & 0.111214097 \\\\\n",
       "\tCountry 3 & 0.139466502  & 0.01449448   & 0.0723954064 & 0.012183096  & 0.085771807  & 0.0118880099 & 0.09994486   & 0.05041381   & 0.11119337   & 0.088581921  & 0.032954962  & 0.024462072 \\\\\n",
       "\tCountry 3 & 0.076876461  & 0.02855303   & 0.0913144901 & 0.024313028  & 0.047596306  & 0.0646766835 & 0.11074527   & 0.11054746   & 0.04961097   & 0.004942741  & 0.077095444  & 0.072239483 \\\\\n",
       "\tCountry 3 & 0.124194642  & 0.11649900   & 0.1192720252 & 0.002345661  & 0.116329409  & 0.0506653900 & 0.04326253   & 0.06858981   & 0.03571192   & 0.022545292  & 0.134081652  & 0.031321424 \\\\\n",
       "\\end{tabular}\n"
      ],
      "text/markdown": [
       "\n",
       "| <!--/--> | Country 1 | Country 1 | Country 1 | Country 1 | Country 2 | Country 2 | Country 2 | Country 2 | Country 3 | Country 3 | Country 3 | Country 3 |\n",
       "|---|---|---|---|---|---|---|---|---|---|---|---|---|\n",
       "| Country 1 | 0.050127639  | 0.02347828   | 0.0126064977 | 0.075540834  | 0.104129432  | 0.0162409248 | 0.11687642   | 0.05942676   | 0.05782205   | 0.087190187  | 0.032948024  | 0.064273925  |\n",
       "| Country 1 | 0.051251038  | 0.06660328   | 0.0008781198 | 0.115458789  | 0.005303198  | 0.0096482928 | 0.07879756   | 0.12569779   | 0.06636635   | 0.119465212  | 0.011325792  | 0.042788409  |\n",
       "| Country 1 | 0.042107897  | 0.11947567   | 0.0323518356 | 0.104857522  | 0.095704257  | 0.0001592141 | 0.04784437   | 0.03469675   | 0.03546670   | 0.093827237  | 0.071761778  | 0.070874742  |\n",
       "| Country 1 | 0.092302781  | 0.03896823   | 0.0384537156 | 0.103369199  | 0.063548938  | 0.0752576480 | 0.13308043   | 0.09666830   | 0.12083981   | 0.034313148  | 0.122617541  | 0.004790019  |\n",
       "| Country 2 | 0.079279023  | 0.06994030   | 0.1210026652 | 0.035112187  | 0.065823004  | 0.0156517856 | 0.10952897   | 0.08287492   | 0.02776402   | 0.044190183  | 0.041604307  | 0.096105778  |\n",
       "| Country 2 | 0.108931142  | 0.14067371   | 0.1093753267 | 0.081030642  | 0.077664928  | 0.0521518505 | 0.01381804   | 0.13843198   | 0.08583895   | 0.106891993  | 0.119028999  | 0.112878955  |\n",
       "| Country 2 | 0.042683725  | 0.06669497   | 0.0008688981 | 0.105270093  | 0.118068234  | 0.0562397261 | 0.05153135   | 0.03855147   | 0.12568045   | 0.066520745  | 0.087538015  | 0.003009061  |\n",
       "| Country 2 | 0.016344793  | 0.07778414   | 0.1051727132 | 0.058338305  | 0.010014409  | 0.0786777807 | 0.03567747   | 0.03264210   | 0.08281053   | 0.104399942  | 0.057937852  | 0.018270553  |\n",
       "| Country 3 | 0.006659774  | 0.06863884   | 0.0734356360 | 0.072682616  | 0.080422213  | 0.0714645674 | 0.10252490   | 0.09097006   | 0.11243102   | 0.028782922  | 0.001998658  | 0.111214097  |\n",
       "| Country 3 | 0.139466502  | 0.01449448   | 0.0723954064 | 0.012183096  | 0.085771807  | 0.0118880099 | 0.09994486   | 0.05041381   | 0.11119337   | 0.088581921  | 0.032954962  | 0.024462072  |\n",
       "| Country 3 | 0.076876461  | 0.02855303   | 0.0913144901 | 0.024313028  | 0.047596306  | 0.0646766835 | 0.11074527   | 0.11054746   | 0.04961097   | 0.004942741  | 0.077095444  | 0.072239483  |\n",
       "| Country 3 | 0.124194642  | 0.11649900   | 0.1192720252 | 0.002345661  | 0.116329409  | 0.0506653900 | 0.04326253   | 0.06858981   | 0.03571192   | 0.022545292  | 0.134081652  | 0.031321424  |\n",
       "\n"
      ],
      "text/plain": [
       "          Country 1   Country 1  Country 1    Country 1   Country 2  \n",
       "Country 1 0.050127639 0.02347828 0.0126064977 0.075540834 0.104129432\n",
       "Country 1 0.051251038 0.06660328 0.0008781198 0.115458789 0.005303198\n",
       "Country 1 0.042107897 0.11947567 0.0323518356 0.104857522 0.095704257\n",
       "Country 1 0.092302781 0.03896823 0.0384537156 0.103369199 0.063548938\n",
       "Country 2 0.079279023 0.06994030 0.1210026652 0.035112187 0.065823004\n",
       "Country 2 0.108931142 0.14067371 0.1093753267 0.081030642 0.077664928\n",
       "Country 2 0.042683725 0.06669497 0.0008688981 0.105270093 0.118068234\n",
       "Country 2 0.016344793 0.07778414 0.1051727132 0.058338305 0.010014409\n",
       "Country 3 0.006659774 0.06863884 0.0734356360 0.072682616 0.080422213\n",
       "Country 3 0.139466502 0.01449448 0.0723954064 0.012183096 0.085771807\n",
       "Country 3 0.076876461 0.02855303 0.0913144901 0.024313028 0.047596306\n",
       "Country 3 0.124194642 0.11649900 0.1192720252 0.002345661 0.116329409\n",
       "          Country 2    Country 2  Country 2  Country 3  Country 3   Country 3  \n",
       "Country 1 0.0162409248 0.11687642 0.05942676 0.05782205 0.087190187 0.032948024\n",
       "Country 1 0.0096482928 0.07879756 0.12569779 0.06636635 0.119465212 0.011325792\n",
       "Country 1 0.0001592141 0.04784437 0.03469675 0.03546670 0.093827237 0.071761778\n",
       "Country 1 0.0752576480 0.13308043 0.09666830 0.12083981 0.034313148 0.122617541\n",
       "Country 2 0.0156517856 0.10952897 0.08287492 0.02776402 0.044190183 0.041604307\n",
       "Country 2 0.0521518505 0.01381804 0.13843198 0.08583895 0.106891993 0.119028999\n",
       "Country 2 0.0562397261 0.05153135 0.03855147 0.12568045 0.066520745 0.087538015\n",
       "Country 2 0.0786777807 0.03567747 0.03264210 0.08281053 0.104399942 0.057937852\n",
       "Country 3 0.0714645674 0.10252490 0.09097006 0.11243102 0.028782922 0.001998658\n",
       "Country 3 0.0118880099 0.09994486 0.05041381 0.11119337 0.088581921 0.032954962\n",
       "Country 3 0.0646766835 0.11074527 0.11054746 0.04961097 0.004942741 0.077095444\n",
       "Country 3 0.0506653900 0.04326253 0.06858981 0.03571192 0.022545292 0.134081652\n",
       "          Country 3  \n",
       "Country 1 0.064273925\n",
       "Country 1 0.042788409\n",
       "Country 1 0.070874742\n",
       "Country 1 0.004790019\n",
       "Country 2 0.096105778\n",
       "Country 2 0.112878955\n",
       "Country 2 0.003009061\n",
       "Country 2 0.018270553\n",
       "Country 3 0.111214097\n",
       "Country 3 0.024462072\n",
       "Country 3 0.072239483\n",
       "Country 3 0.031321424"
      ]
     },
     "metadata": {},
     "output_type": "display_data"
    }
   ],
   "source": [
    "A <- sweep(T, MARGIN = 2, totalinput, FUN = '/')\n",
    "A"
   ]
  },
  {
   "cell_type": "code",
   "execution_count": 10,
   "metadata": {},
   "outputs": [
    {
     "data": {
      "text/html": [
       "<table>\n",
       "<tbody>\n",
       "\t<tr><td>1</td><td>0</td><td>0</td><td>0</td><td>0</td><td>0</td><td>0</td><td>0</td><td>0</td><td>0</td><td>0</td><td>0</td></tr>\n",
       "\t<tr><td>0</td><td>1</td><td>0</td><td>0</td><td>0</td><td>0</td><td>0</td><td>0</td><td>0</td><td>0</td><td>0</td><td>0</td></tr>\n",
       "\t<tr><td>0</td><td>0</td><td>1</td><td>0</td><td>0</td><td>0</td><td>0</td><td>0</td><td>0</td><td>0</td><td>0</td><td>0</td></tr>\n",
       "\t<tr><td>0</td><td>0</td><td>0</td><td>1</td><td>0</td><td>0</td><td>0</td><td>0</td><td>0</td><td>0</td><td>0</td><td>0</td></tr>\n",
       "\t<tr><td>0</td><td>0</td><td>0</td><td>0</td><td>1</td><td>0</td><td>0</td><td>0</td><td>0</td><td>0</td><td>0</td><td>0</td></tr>\n",
       "\t<tr><td>0</td><td>0</td><td>0</td><td>0</td><td>0</td><td>1</td><td>0</td><td>0</td><td>0</td><td>0</td><td>0</td><td>0</td></tr>\n",
       "\t<tr><td>0</td><td>0</td><td>0</td><td>0</td><td>0</td><td>0</td><td>1</td><td>0</td><td>0</td><td>0</td><td>0</td><td>0</td></tr>\n",
       "\t<tr><td>0</td><td>0</td><td>0</td><td>0</td><td>0</td><td>0</td><td>0</td><td>1</td><td>0</td><td>0</td><td>0</td><td>0</td></tr>\n",
       "\t<tr><td>0</td><td>0</td><td>0</td><td>0</td><td>0</td><td>0</td><td>0</td><td>0</td><td>1</td><td>0</td><td>0</td><td>0</td></tr>\n",
       "\t<tr><td>0</td><td>0</td><td>0</td><td>0</td><td>0</td><td>0</td><td>0</td><td>0</td><td>0</td><td>1</td><td>0</td><td>0</td></tr>\n",
       "\t<tr><td>0</td><td>0</td><td>0</td><td>0</td><td>0</td><td>0</td><td>0</td><td>0</td><td>0</td><td>0</td><td>1</td><td>0</td></tr>\n",
       "\t<tr><td>0</td><td>0</td><td>0</td><td>0</td><td>0</td><td>0</td><td>0</td><td>0</td><td>0</td><td>0</td><td>0</td><td>1</td></tr>\n",
       "</tbody>\n",
       "</table>\n"
      ],
      "text/latex": [
       "\\begin{tabular}{llllllllllll}\n",
       "\t 1 & 0 & 0 & 0 & 0 & 0 & 0 & 0 & 0 & 0 & 0 & 0\\\\\n",
       "\t 0 & 1 & 0 & 0 & 0 & 0 & 0 & 0 & 0 & 0 & 0 & 0\\\\\n",
       "\t 0 & 0 & 1 & 0 & 0 & 0 & 0 & 0 & 0 & 0 & 0 & 0\\\\\n",
       "\t 0 & 0 & 0 & 1 & 0 & 0 & 0 & 0 & 0 & 0 & 0 & 0\\\\\n",
       "\t 0 & 0 & 0 & 0 & 1 & 0 & 0 & 0 & 0 & 0 & 0 & 0\\\\\n",
       "\t 0 & 0 & 0 & 0 & 0 & 1 & 0 & 0 & 0 & 0 & 0 & 0\\\\\n",
       "\t 0 & 0 & 0 & 0 & 0 & 0 & 1 & 0 & 0 & 0 & 0 & 0\\\\\n",
       "\t 0 & 0 & 0 & 0 & 0 & 0 & 0 & 1 & 0 & 0 & 0 & 0\\\\\n",
       "\t 0 & 0 & 0 & 0 & 0 & 0 & 0 & 0 & 1 & 0 & 0 & 0\\\\\n",
       "\t 0 & 0 & 0 & 0 & 0 & 0 & 0 & 0 & 0 & 1 & 0 & 0\\\\\n",
       "\t 0 & 0 & 0 & 0 & 0 & 0 & 0 & 0 & 0 & 0 & 1 & 0\\\\\n",
       "\t 0 & 0 & 0 & 0 & 0 & 0 & 0 & 0 & 0 & 0 & 0 & 1\\\\\n",
       "\\end{tabular}\n"
      ],
      "text/markdown": [
       "\n",
       "| 1 | 0 | 0 | 0 | 0 | 0 | 0 | 0 | 0 | 0 | 0 | 0 |\n",
       "| 0 | 1 | 0 | 0 | 0 | 0 | 0 | 0 | 0 | 0 | 0 | 0 |\n",
       "| 0 | 0 | 1 | 0 | 0 | 0 | 0 | 0 | 0 | 0 | 0 | 0 |\n",
       "| 0 | 0 | 0 | 1 | 0 | 0 | 0 | 0 | 0 | 0 | 0 | 0 |\n",
       "| 0 | 0 | 0 | 0 | 1 | 0 | 0 | 0 | 0 | 0 | 0 | 0 |\n",
       "| 0 | 0 | 0 | 0 | 0 | 1 | 0 | 0 | 0 | 0 | 0 | 0 |\n",
       "| 0 | 0 | 0 | 0 | 0 | 0 | 1 | 0 | 0 | 0 | 0 | 0 |\n",
       "| 0 | 0 | 0 | 0 | 0 | 0 | 0 | 1 | 0 | 0 | 0 | 0 |\n",
       "| 0 | 0 | 0 | 0 | 0 | 0 | 0 | 0 | 1 | 0 | 0 | 0 |\n",
       "| 0 | 0 | 0 | 0 | 0 | 0 | 0 | 0 | 0 | 1 | 0 | 0 |\n",
       "| 0 | 0 | 0 | 0 | 0 | 0 | 0 | 0 | 0 | 0 | 1 | 0 |\n",
       "| 0 | 0 | 0 | 0 | 0 | 0 | 0 | 0 | 0 | 0 | 0 | 1 |\n",
       "\n"
      ],
      "text/plain": [
       "      [,1] [,2] [,3] [,4] [,5] [,6] [,7] [,8] [,9] [,10] [,11] [,12]\n",
       " [1,] 1    0    0    0    0    0    0    0    0    0     0     0    \n",
       " [2,] 0    1    0    0    0    0    0    0    0    0     0     0    \n",
       " [3,] 0    0    1    0    0    0    0    0    0    0     0     0    \n",
       " [4,] 0    0    0    1    0    0    0    0    0    0     0     0    \n",
       " [5,] 0    0    0    0    1    0    0    0    0    0     0     0    \n",
       " [6,] 0    0    0    0    0    1    0    0    0    0     0     0    \n",
       " [7,] 0    0    0    0    0    0    1    0    0    0     0     0    \n",
       " [8,] 0    0    0    0    0    0    0    1    0    0     0     0    \n",
       " [9,] 0    0    0    0    0    0    0    0    1    0     0     0    \n",
       "[10,] 0    0    0    0    0    0    0    0    0    1     0     0    \n",
       "[11,] 0    0    0    0    0    0    0    0    0    0     1     0    \n",
       "[12,] 0    0    0    0    0    0    0    0    0    0     0     1    "
      ]
     },
     "metadata": {},
     "output_type": "display_data"
    }
   ],
   "source": [
    "I <- diag(rep(1, ncol(T)))\n",
    "I"
   ]
  },
  {
   "cell_type": "code",
   "execution_count": 11,
   "metadata": {},
   "outputs": [
    {
     "data": {
      "text/html": [
       "<table>\n",
       "<thead><tr><th></th><th scope=col>Country 1</th><th scope=col>Country 1</th><th scope=col>Country 1</th><th scope=col>Country 1</th><th scope=col>Country 2</th><th scope=col>Country 2</th><th scope=col>Country 2</th><th scope=col>Country 2</th><th scope=col>Country 3</th><th scope=col>Country 3</th><th scope=col>Country 3</th><th scope=col>Country 3</th></tr></thead>\n",
       "<tbody>\n",
       "\t<tr><th scope=row>Country 1</th><td>1.2718640</td><td>0.2414804</td><td>0.2228320</td><td>0.2953492</td><td>0.3490588</td><td>0.1591959</td><td>0.3894519</td><td>0.3057427</td><td>0.3211359</td><td>0.3037137</td><td>0.2431134</td><td>0.2356501</td></tr>\n",
       "\t<tr><th scope=row>Country 1</th><td>0.2657457</td><td>1.2758240</td><td>0.2012204</td><td>0.3359508</td><td>0.2369145</td><td>0.1540765</td><td>0.3456483</td><td>0.3670310</td><td>0.3346601</td><td>0.3395884</td><td>0.2141158</td><td>0.2027938</td></tr>\n",
       "\t<tr><th scope=row>Country 1</th><td>0.2790439</td><td>0.3462987</td><td>1.2495543</td><td>0.3384553</td><td>0.3447692</td><td>0.1468004</td><td>0.3398119</td><td>0.3017043</td><td>0.3082655</td><td>0.3242598</td><td>0.2905857</td><td>0.2502202</td></tr>\n",
       "\t<tr><th scope=row>Country 1</th><td>0.3779631</td><td>0.3336571</td><td>0.3167811</td><td>1.4083658</td><td>0.3843876</td><td>0.2743830</td><td>0.4968494</td><td>0.4359392</td><td>0.4767646</td><td>0.3258015</td><td>0.4045103</td><td>0.2429659</td></tr>\n",
       "\t<tr><th scope=row>Country 2</th><td>0.3185221</td><td>0.3179914</td><td>0.3456858</td><td>0.2824458</td><td>1.3332020</td><td>0.1668259</td><td>0.4010747</td><td>0.3510640</td><td>0.3072941</td><td>0.2902908</td><td>0.2737366</td><td>0.2844741</td></tr>\n",
       "\t<tr><th scope=row>Country 2</th><td>0.4641573</td><td>0.4987923</td><td>0.4493230</td><td>0.4372692</td><td>0.4572517</td><td>1.2776151</td><td>0.4485200</td><td>0.5440176</td><td>0.4970059</td><td>0.4675221</td><td>0.4531742</td><td>0.3964299</td></tr>\n",
       "\t<tr><th scope=row>Country 2</th><td>0.2854196</td><td>0.3089231</td><td>0.2368611</td><td>0.3543458</td><td>0.3813182</td><td>0.2182286</td><td>1.3601546</td><td>0.3257237</td><td>0.4196806</td><td>0.3062184</td><td>0.3158640</td><td>0.2047691</td></tr>\n",
       "\t<tr><th scope=row>Country 2</th><td>0.2351814</td><td>0.2991179</td><td>0.3086395</td><td>0.2821016</td><td>0.2454777</td><td>0.2161191</td><td>0.2997680</td><td>1.2832657</td><td>0.3426711</td><td>0.3272789</td><td>0.2621832</td><td>0.1946277</td></tr>\n",
       "\t<tr><th scope=row>Country 3</th><td>0.2678618</td><td>0.3482315</td><td>0.3290624</td><td>0.3446342</td><td>0.3696682</td><td>0.2452190</td><td>0.4180542</td><td>0.3932686</td><td>1.4257844</td><td>0.2947889</td><td>0.2584292</td><td>0.3233142</td></tr>\n",
       "\t<tr><th scope=row>Country 3</th><td>0.3605594</td><td>0.2388610</td><td>0.2837938</td><td>0.2420188</td><td>0.3435444</td><td>0.1539935</td><td>0.3831661</td><td>0.3009039</td><td>0.3804101</td><td>1.3169769</td><td>0.2389781</td><td>0.2100848</td></tr>\n",
       "\t<tr><th scope=row>Country 3</th><td>0.3094416</td><td>0.2769359</td><td>0.3194721</td><td>0.2681723</td><td>0.3095902</td><td>0.2206525</td><td>0.3943379</td><td>0.3790199</td><td>0.3270034</td><td>0.2459260</td><td>1.3098646</td><td>0.2637044</td></tr>\n",
       "\t<tr><th scope=row>Country 3</th><td>0.3833273</td><td>0.3838290</td><td>0.3677967</td><td>0.2714025</td><td>0.3995373</td><td>0.2127545</td><td>0.3670553</td><td>0.3715353</td><td>0.3331181</td><td>0.2922190</td><td>0.3793239</td><td>1.2494679</td></tr>\n",
       "</tbody>\n",
       "</table>\n"
      ],
      "text/latex": [
       "\\begin{tabular}{r|llllllllllll}\n",
       "  & Country 1 & Country 1 & Country 1 & Country 1 & Country 2 & Country 2 & Country 2 & Country 2 & Country 3 & Country 3 & Country 3 & Country 3\\\\\n",
       "\\hline\n",
       "\tCountry 1 & 1.2718640 & 0.2414804 & 0.2228320 & 0.2953492 & 0.3490588 & 0.1591959 & 0.3894519 & 0.3057427 & 0.3211359 & 0.3037137 & 0.2431134 & 0.2356501\\\\\n",
       "\tCountry 1 & 0.2657457 & 1.2758240 & 0.2012204 & 0.3359508 & 0.2369145 & 0.1540765 & 0.3456483 & 0.3670310 & 0.3346601 & 0.3395884 & 0.2141158 & 0.2027938\\\\\n",
       "\tCountry 1 & 0.2790439 & 0.3462987 & 1.2495543 & 0.3384553 & 0.3447692 & 0.1468004 & 0.3398119 & 0.3017043 & 0.3082655 & 0.3242598 & 0.2905857 & 0.2502202\\\\\n",
       "\tCountry 1 & 0.3779631 & 0.3336571 & 0.3167811 & 1.4083658 & 0.3843876 & 0.2743830 & 0.4968494 & 0.4359392 & 0.4767646 & 0.3258015 & 0.4045103 & 0.2429659\\\\\n",
       "\tCountry 2 & 0.3185221 & 0.3179914 & 0.3456858 & 0.2824458 & 1.3332020 & 0.1668259 & 0.4010747 & 0.3510640 & 0.3072941 & 0.2902908 & 0.2737366 & 0.2844741\\\\\n",
       "\tCountry 2 & 0.4641573 & 0.4987923 & 0.4493230 & 0.4372692 & 0.4572517 & 1.2776151 & 0.4485200 & 0.5440176 & 0.4970059 & 0.4675221 & 0.4531742 & 0.3964299\\\\\n",
       "\tCountry 2 & 0.2854196 & 0.3089231 & 0.2368611 & 0.3543458 & 0.3813182 & 0.2182286 & 1.3601546 & 0.3257237 & 0.4196806 & 0.3062184 & 0.3158640 & 0.2047691\\\\\n",
       "\tCountry 2 & 0.2351814 & 0.2991179 & 0.3086395 & 0.2821016 & 0.2454777 & 0.2161191 & 0.2997680 & 1.2832657 & 0.3426711 & 0.3272789 & 0.2621832 & 0.1946277\\\\\n",
       "\tCountry 3 & 0.2678618 & 0.3482315 & 0.3290624 & 0.3446342 & 0.3696682 & 0.2452190 & 0.4180542 & 0.3932686 & 1.4257844 & 0.2947889 & 0.2584292 & 0.3233142\\\\\n",
       "\tCountry 3 & 0.3605594 & 0.2388610 & 0.2837938 & 0.2420188 & 0.3435444 & 0.1539935 & 0.3831661 & 0.3009039 & 0.3804101 & 1.3169769 & 0.2389781 & 0.2100848\\\\\n",
       "\tCountry 3 & 0.3094416 & 0.2769359 & 0.3194721 & 0.2681723 & 0.3095902 & 0.2206525 & 0.3943379 & 0.3790199 & 0.3270034 & 0.2459260 & 1.3098646 & 0.2637044\\\\\n",
       "\tCountry 3 & 0.3833273 & 0.3838290 & 0.3677967 & 0.2714025 & 0.3995373 & 0.2127545 & 0.3670553 & 0.3715353 & 0.3331181 & 0.2922190 & 0.3793239 & 1.2494679\\\\\n",
       "\\end{tabular}\n"
      ],
      "text/markdown": [
       "\n",
       "| <!--/--> | Country 1 | Country 1 | Country 1 | Country 1 | Country 2 | Country 2 | Country 2 | Country 2 | Country 3 | Country 3 | Country 3 | Country 3 |\n",
       "|---|---|---|---|---|---|---|---|---|---|---|---|---|\n",
       "| Country 1 | 1.2718640 | 0.2414804 | 0.2228320 | 0.2953492 | 0.3490588 | 0.1591959 | 0.3894519 | 0.3057427 | 0.3211359 | 0.3037137 | 0.2431134 | 0.2356501 |\n",
       "| Country 1 | 0.2657457 | 1.2758240 | 0.2012204 | 0.3359508 | 0.2369145 | 0.1540765 | 0.3456483 | 0.3670310 | 0.3346601 | 0.3395884 | 0.2141158 | 0.2027938 |\n",
       "| Country 1 | 0.2790439 | 0.3462987 | 1.2495543 | 0.3384553 | 0.3447692 | 0.1468004 | 0.3398119 | 0.3017043 | 0.3082655 | 0.3242598 | 0.2905857 | 0.2502202 |\n",
       "| Country 1 | 0.3779631 | 0.3336571 | 0.3167811 | 1.4083658 | 0.3843876 | 0.2743830 | 0.4968494 | 0.4359392 | 0.4767646 | 0.3258015 | 0.4045103 | 0.2429659 |\n",
       "| Country 2 | 0.3185221 | 0.3179914 | 0.3456858 | 0.2824458 | 1.3332020 | 0.1668259 | 0.4010747 | 0.3510640 | 0.3072941 | 0.2902908 | 0.2737366 | 0.2844741 |\n",
       "| Country 2 | 0.4641573 | 0.4987923 | 0.4493230 | 0.4372692 | 0.4572517 | 1.2776151 | 0.4485200 | 0.5440176 | 0.4970059 | 0.4675221 | 0.4531742 | 0.3964299 |\n",
       "| Country 2 | 0.2854196 | 0.3089231 | 0.2368611 | 0.3543458 | 0.3813182 | 0.2182286 | 1.3601546 | 0.3257237 | 0.4196806 | 0.3062184 | 0.3158640 | 0.2047691 |\n",
       "| Country 2 | 0.2351814 | 0.2991179 | 0.3086395 | 0.2821016 | 0.2454777 | 0.2161191 | 0.2997680 | 1.2832657 | 0.3426711 | 0.3272789 | 0.2621832 | 0.1946277 |\n",
       "| Country 3 | 0.2678618 | 0.3482315 | 0.3290624 | 0.3446342 | 0.3696682 | 0.2452190 | 0.4180542 | 0.3932686 | 1.4257844 | 0.2947889 | 0.2584292 | 0.3233142 |\n",
       "| Country 3 | 0.3605594 | 0.2388610 | 0.2837938 | 0.2420188 | 0.3435444 | 0.1539935 | 0.3831661 | 0.3009039 | 0.3804101 | 1.3169769 | 0.2389781 | 0.2100848 |\n",
       "| Country 3 | 0.3094416 | 0.2769359 | 0.3194721 | 0.2681723 | 0.3095902 | 0.2206525 | 0.3943379 | 0.3790199 | 0.3270034 | 0.2459260 | 1.3098646 | 0.2637044 |\n",
       "| Country 3 | 0.3833273 | 0.3838290 | 0.3677967 | 0.2714025 | 0.3995373 | 0.2127545 | 0.3670553 | 0.3715353 | 0.3331181 | 0.2922190 | 0.3793239 | 1.2494679 |\n",
       "\n"
      ],
      "text/plain": [
       "          Country 1 Country 1 Country 1 Country 1 Country 2 Country 2 Country 2\n",
       "Country 1 1.2718640 0.2414804 0.2228320 0.2953492 0.3490588 0.1591959 0.3894519\n",
       "Country 1 0.2657457 1.2758240 0.2012204 0.3359508 0.2369145 0.1540765 0.3456483\n",
       "Country 1 0.2790439 0.3462987 1.2495543 0.3384553 0.3447692 0.1468004 0.3398119\n",
       "Country 1 0.3779631 0.3336571 0.3167811 1.4083658 0.3843876 0.2743830 0.4968494\n",
       "Country 2 0.3185221 0.3179914 0.3456858 0.2824458 1.3332020 0.1668259 0.4010747\n",
       "Country 2 0.4641573 0.4987923 0.4493230 0.4372692 0.4572517 1.2776151 0.4485200\n",
       "Country 2 0.2854196 0.3089231 0.2368611 0.3543458 0.3813182 0.2182286 1.3601546\n",
       "Country 2 0.2351814 0.2991179 0.3086395 0.2821016 0.2454777 0.2161191 0.2997680\n",
       "Country 3 0.2678618 0.3482315 0.3290624 0.3446342 0.3696682 0.2452190 0.4180542\n",
       "Country 3 0.3605594 0.2388610 0.2837938 0.2420188 0.3435444 0.1539935 0.3831661\n",
       "Country 3 0.3094416 0.2769359 0.3194721 0.2681723 0.3095902 0.2206525 0.3943379\n",
       "Country 3 0.3833273 0.3838290 0.3677967 0.2714025 0.3995373 0.2127545 0.3670553\n",
       "          Country 2 Country 3 Country 3 Country 3 Country 3\n",
       "Country 1 0.3057427 0.3211359 0.3037137 0.2431134 0.2356501\n",
       "Country 1 0.3670310 0.3346601 0.3395884 0.2141158 0.2027938\n",
       "Country 1 0.3017043 0.3082655 0.3242598 0.2905857 0.2502202\n",
       "Country 1 0.4359392 0.4767646 0.3258015 0.4045103 0.2429659\n",
       "Country 2 0.3510640 0.3072941 0.2902908 0.2737366 0.2844741\n",
       "Country 2 0.5440176 0.4970059 0.4675221 0.4531742 0.3964299\n",
       "Country 2 0.3257237 0.4196806 0.3062184 0.3158640 0.2047691\n",
       "Country 2 1.2832657 0.3426711 0.3272789 0.2621832 0.1946277\n",
       "Country 3 0.3932686 1.4257844 0.2947889 0.2584292 0.3233142\n",
       "Country 3 0.3009039 0.3804101 1.3169769 0.2389781 0.2100848\n",
       "Country 3 0.3790199 0.3270034 0.2459260 1.3098646 0.2637044\n",
       "Country 3 0.3715353 0.3331181 0.2922190 0.3793239 1.2494679"
      ]
     },
     "metadata": {},
     "output_type": "display_data"
    }
   ],
   "source": [
    "L <- solve(I - A)\n",
    "L"
   ]
  },
  {
   "cell_type": "code",
   "execution_count": 12,
   "metadata": {},
   "outputs": [
    {
     "data": {
      "text/html": [
       "<table>\n",
       "<thead><tr><th></th><th scope=col>Country 1</th><th scope=col>Country 1</th><th scope=col>Country 1</th><th scope=col>Country 1</th><th scope=col>Country 2</th><th scope=col>Country 2</th><th scope=col>Country 2</th><th scope=col>Country 2</th><th scope=col>Country 3</th><th scope=col>Country 3</th><th scope=col>Country 3</th><th scope=col>Country 3</th></tr></thead>\n",
       "<tbody>\n",
       "\t<tr><th scope=row>Direct Emissions</th><td>0.2099432</td><td>0.2156419</td><td>0.1958048</td><td>0.2170689</td><td>0.2316108</td><td>0.1399477</td><td>0.2320376</td><td>0.2136938</td><td>0.2489154</td><td>0.198663 </td><td>0.2128491</td><td>0.1922994</td></tr>\n",
       "</tbody>\n",
       "</table>\n"
      ],
      "text/latex": [
       "\\begin{tabular}{r|llllllllllll}\n",
       "  & Country 1 & Country 1 & Country 1 & Country 1 & Country 2 & Country 2 & Country 2 & Country 2 & Country 3 & Country 3 & Country 3 & Country 3\\\\\n",
       "\\hline\n",
       "\tDirect Emissions & 0.2099432 & 0.2156419 & 0.1958048 & 0.2170689 & 0.2316108 & 0.1399477 & 0.2320376 & 0.2136938 & 0.2489154 & 0.198663  & 0.2128491 & 0.1922994\\\\\n",
       "\\end{tabular}\n"
      ],
      "text/markdown": [
       "\n",
       "| <!--/--> | Country 1 | Country 1 | Country 1 | Country 1 | Country 2 | Country 2 | Country 2 | Country 2 | Country 3 | Country 3 | Country 3 | Country 3 |\n",
       "|---|---|---|---|---|---|---|---|---|---|---|---|---|\n",
       "| Direct Emissions | 0.2099432 | 0.2156419 | 0.1958048 | 0.2170689 | 0.2316108 | 0.1399477 | 0.2320376 | 0.2136938 | 0.2489154 | 0.198663  | 0.2128491 | 0.1922994 |\n",
       "\n"
      ],
      "text/plain": [
       "                 Country 1 Country 1 Country 1 Country 1 Country 2 Country 2\n",
       "Direct Emissions 0.2099432 0.2156419 0.1958048 0.2170689 0.2316108 0.1399477\n",
       "                 Country 2 Country 2 Country 3 Country 3 Country 3 Country 3\n",
       "Direct Emissions 0.2320376 0.2136938 0.2489154 0.198663  0.2128491 0.1922994"
      ]
     },
     "metadata": {},
     "output_type": "display_data"
    }
   ],
   "source": [
    "m <- E %*% L\n",
    "m"
   ]
  },
  {
   "cell_type": "markdown",
   "metadata": {},
   "source": [
    "## 3. Create emission variable"
   ]
  },
  {
   "cell_type": "code",
   "execution_count": 13,
   "metadata": {},
   "outputs": [
    {
     "data": {
      "text/html": [
       "<table>\n",
       "<thead><tr><th></th><th scope=col>Country 1</th><th scope=col>Country 1</th><th scope=col>Country 1</th><th scope=col>Country 1</th><th scope=col>Country 2</th><th scope=col>Country 2</th><th scope=col>Country 2</th><th scope=col>Country 2</th><th scope=col>Country 3</th><th scope=col>Country 3</th><th scope=col>Country 3</th><th scope=col>Country 3</th></tr></thead>\n",
       "<tbody>\n",
       "\t<tr><th scope=row>Country 1</th><td>0.26701921</td><td>0.05069717</td><td>0.04678206</td><td>0.06200656</td><td>0.07328253</td><td>0.03342210</td><td>0.08176278</td><td>0.06418860</td><td>0.06742030</td><td>0.06376264</td><td>0.05104001</td><td>0.04947315</td></tr>\n",
       "\t<tr><th scope=row>Country 1</th><td>0.05730590</td><td>0.27512110</td><td>0.04339155</td><td>0.07244506</td><td>0.05108870</td><td>0.03322535</td><td>0.07453624</td><td>0.07914726</td><td>0.07216674</td><td>0.07322948</td><td>0.04617233</td><td>0.04373084</td></tr>\n",
       "\t<tr><th scope=row>Country 1</th><td>0.05463814</td><td>0.06780696</td><td>0.24466878</td><td>0.06627119</td><td>0.06750748</td><td>0.02874423</td><td>0.06653682</td><td>0.05907516</td><td>0.06035988</td><td>0.06349164</td><td>0.05689808</td><td>0.04899433</td></tr>\n",
       "\t<tr><th scope=row>Country 1</th><td>0.08204402</td><td>0.07242656</td><td>0.06876332</td><td>0.30571237</td><td>0.08343858</td><td>0.05956001</td><td>0.10785052</td><td>0.09462882</td><td>0.10349074</td><td>0.07072136</td><td>0.08780660</td><td>0.05274034</td></tr>\n",
       "\t<tr><th scope=row>Country 2</th><td>0.07377317</td><td>0.07365025</td><td>0.08006457</td><td>0.06541750</td><td>0.30878399</td><td>0.03863869</td><td>0.09289324</td><td>0.08131021</td><td>0.07117263</td><td>0.06723449</td><td>0.06340035</td><td>0.06588728</td></tr>\n",
       "\t<tr><th scope=row>Country 2</th><td>0.06495778</td><td>0.06980486</td><td>0.06288174</td><td>0.06119484</td><td>0.06399134</td><td>0.17879935</td><td>0.06276937</td><td>0.07613403</td><td>0.06955485</td><td>0.06542866</td><td>0.06342070</td><td>0.05547947</td></tr>\n",
       "\t<tr><th scope=row>Country 2</th><td>0.06622808</td><td>0.07168179</td><td>0.05496070</td><td>0.08222157</td><td>0.08848016</td><td>0.05063726</td><td>0.31560706</td><td>0.07558015</td><td>0.09738170</td><td>0.07105419</td><td>0.07329235</td><td>0.04751413</td></tr>\n",
       "\t<tr><th scope=row>Country 2</th><td>0.05025680</td><td>0.06391965</td><td>0.06595434</td><td>0.06028336</td><td>0.05245706</td><td>0.04618331</td><td>0.06405856</td><td>0.27422593</td><td>0.07322670</td><td>0.06993749</td><td>0.05602693</td><td>0.04159074</td></tr>\n",
       "\t<tr><th scope=row>Country 3</th><td>0.06667493</td><td>0.08668017</td><td>0.08190868</td><td>0.08578475</td><td>0.09201611</td><td>0.06103877</td><td>0.10406011</td><td>0.09789061</td><td>0.35489963</td><td>0.07337748</td><td>0.06432699</td><td>0.08047788</td></tr>\n",
       "\t<tr><th scope=row>Country 3</th><td>0.07162979</td><td>0.04745283</td><td>0.05637931</td><td>0.04808018</td><td>0.06824956</td><td>0.03059281</td><td>0.07612090</td><td>0.05977846</td><td>0.07557340</td><td>0.26163453</td><td>0.04747610</td><td>0.04173606</td></tr>\n",
       "\t<tr><th scope=row>Country 3</th><td>0.06586435</td><td>0.05894555</td><td>0.06799934</td><td>0.05708022</td><td>0.06589600</td><td>0.04696569</td><td>0.08393446</td><td>0.08067404</td><td>0.06960238</td><td>0.05234511</td><td>0.27880348</td><td>0.05612925</td></tr>\n",
       "\t<tr><th scope=row>Country 3</th><td>0.07371361</td><td>0.07381009</td><td>0.07072708</td><td>0.05219054</td><td>0.07683079</td><td>0.04091256</td><td>0.07058451</td><td>0.07144602</td><td>0.06405841</td><td>0.05619354</td><td>0.07294376</td><td>0.24027194</td></tr>\n",
       "</tbody>\n",
       "</table>\n"
      ],
      "text/latex": [
       "\\begin{tabular}{r|llllllllllll}\n",
       "  & Country 1 & Country 1 & Country 1 & Country 1 & Country 2 & Country 2 & Country 2 & Country 2 & Country 3 & Country 3 & Country 3 & Country 3\\\\\n",
       "\\hline\n",
       "\tCountry 1 & 0.26701921 & 0.05069717 & 0.04678206 & 0.06200656 & 0.07328253 & 0.03342210 & 0.08176278 & 0.06418860 & 0.06742030 & 0.06376264 & 0.05104001 & 0.04947315\\\\\n",
       "\tCountry 1 & 0.05730590 & 0.27512110 & 0.04339155 & 0.07244506 & 0.05108870 & 0.03322535 & 0.07453624 & 0.07914726 & 0.07216674 & 0.07322948 & 0.04617233 & 0.04373084\\\\\n",
       "\tCountry 1 & 0.05463814 & 0.06780696 & 0.24466878 & 0.06627119 & 0.06750748 & 0.02874423 & 0.06653682 & 0.05907516 & 0.06035988 & 0.06349164 & 0.05689808 & 0.04899433\\\\\n",
       "\tCountry 1 & 0.08204402 & 0.07242656 & 0.06876332 & 0.30571237 & 0.08343858 & 0.05956001 & 0.10785052 & 0.09462882 & 0.10349074 & 0.07072136 & 0.08780660 & 0.05274034\\\\\n",
       "\tCountry 2 & 0.07377317 & 0.07365025 & 0.08006457 & 0.06541750 & 0.30878399 & 0.03863869 & 0.09289324 & 0.08131021 & 0.07117263 & 0.06723449 & 0.06340035 & 0.06588728\\\\\n",
       "\tCountry 2 & 0.06495778 & 0.06980486 & 0.06288174 & 0.06119484 & 0.06399134 & 0.17879935 & 0.06276937 & 0.07613403 & 0.06955485 & 0.06542866 & 0.06342070 & 0.05547947\\\\\n",
       "\tCountry 2 & 0.06622808 & 0.07168179 & 0.05496070 & 0.08222157 & 0.08848016 & 0.05063726 & 0.31560706 & 0.07558015 & 0.09738170 & 0.07105419 & 0.07329235 & 0.04751413\\\\\n",
       "\tCountry 2 & 0.05025680 & 0.06391965 & 0.06595434 & 0.06028336 & 0.05245706 & 0.04618331 & 0.06405856 & 0.27422593 & 0.07322670 & 0.06993749 & 0.05602693 & 0.04159074\\\\\n",
       "\tCountry 3 & 0.06667493 & 0.08668017 & 0.08190868 & 0.08578475 & 0.09201611 & 0.06103877 & 0.10406011 & 0.09789061 & 0.35489963 & 0.07337748 & 0.06432699 & 0.08047788\\\\\n",
       "\tCountry 3 & 0.07162979 & 0.04745283 & 0.05637931 & 0.04808018 & 0.06824956 & 0.03059281 & 0.07612090 & 0.05977846 & 0.07557340 & 0.26163453 & 0.04747610 & 0.04173606\\\\\n",
       "\tCountry 3 & 0.06586435 & 0.05894555 & 0.06799934 & 0.05708022 & 0.06589600 & 0.04696569 & 0.08393446 & 0.08067404 & 0.06960238 & 0.05234511 & 0.27880348 & 0.05612925\\\\\n",
       "\tCountry 3 & 0.07371361 & 0.07381009 & 0.07072708 & 0.05219054 & 0.07683079 & 0.04091256 & 0.07058451 & 0.07144602 & 0.06405841 & 0.05619354 & 0.07294376 & 0.24027194\\\\\n",
       "\\end{tabular}\n"
      ],
      "text/markdown": [
       "\n",
       "| <!--/--> | Country 1 | Country 1 | Country 1 | Country 1 | Country 2 | Country 2 | Country 2 | Country 2 | Country 3 | Country 3 | Country 3 | Country 3 |\n",
       "|---|---|---|---|---|---|---|---|---|---|---|---|---|\n",
       "| Country 1 | 0.26701921 | 0.05069717 | 0.04678206 | 0.06200656 | 0.07328253 | 0.03342210 | 0.08176278 | 0.06418860 | 0.06742030 | 0.06376264 | 0.05104001 | 0.04947315 |\n",
       "| Country 1 | 0.05730590 | 0.27512110 | 0.04339155 | 0.07244506 | 0.05108870 | 0.03322535 | 0.07453624 | 0.07914726 | 0.07216674 | 0.07322948 | 0.04617233 | 0.04373084 |\n",
       "| Country 1 | 0.05463814 | 0.06780696 | 0.24466878 | 0.06627119 | 0.06750748 | 0.02874423 | 0.06653682 | 0.05907516 | 0.06035988 | 0.06349164 | 0.05689808 | 0.04899433 |\n",
       "| Country 1 | 0.08204402 | 0.07242656 | 0.06876332 | 0.30571237 | 0.08343858 | 0.05956001 | 0.10785052 | 0.09462882 | 0.10349074 | 0.07072136 | 0.08780660 | 0.05274034 |\n",
       "| Country 2 | 0.07377317 | 0.07365025 | 0.08006457 | 0.06541750 | 0.30878399 | 0.03863869 | 0.09289324 | 0.08131021 | 0.07117263 | 0.06723449 | 0.06340035 | 0.06588728 |\n",
       "| Country 2 | 0.06495778 | 0.06980486 | 0.06288174 | 0.06119484 | 0.06399134 | 0.17879935 | 0.06276937 | 0.07613403 | 0.06955485 | 0.06542866 | 0.06342070 | 0.05547947 |\n",
       "| Country 2 | 0.06622808 | 0.07168179 | 0.05496070 | 0.08222157 | 0.08848016 | 0.05063726 | 0.31560706 | 0.07558015 | 0.09738170 | 0.07105419 | 0.07329235 | 0.04751413 |\n",
       "| Country 2 | 0.05025680 | 0.06391965 | 0.06595434 | 0.06028336 | 0.05245706 | 0.04618331 | 0.06405856 | 0.27422593 | 0.07322670 | 0.06993749 | 0.05602693 | 0.04159074 |\n",
       "| Country 3 | 0.06667493 | 0.08668017 | 0.08190868 | 0.08578475 | 0.09201611 | 0.06103877 | 0.10406011 | 0.09789061 | 0.35489963 | 0.07337748 | 0.06432699 | 0.08047788 |\n",
       "| Country 3 | 0.07162979 | 0.04745283 | 0.05637931 | 0.04808018 | 0.06824956 | 0.03059281 | 0.07612090 | 0.05977846 | 0.07557340 | 0.26163453 | 0.04747610 | 0.04173606 |\n",
       "| Country 3 | 0.06586435 | 0.05894555 | 0.06799934 | 0.05708022 | 0.06589600 | 0.04696569 | 0.08393446 | 0.08067404 | 0.06960238 | 0.05234511 | 0.27880348 | 0.05612925 |\n",
       "| Country 3 | 0.07371361 | 0.07381009 | 0.07072708 | 0.05219054 | 0.07683079 | 0.04091256 | 0.07058451 | 0.07144602 | 0.06405841 | 0.05619354 | 0.07294376 | 0.24027194 |\n",
       "\n"
      ],
      "text/plain": [
       "          Country 1  Country 1  Country 1  Country 1  Country 2  Country 2 \n",
       "Country 1 0.26701921 0.05069717 0.04678206 0.06200656 0.07328253 0.03342210\n",
       "Country 1 0.05730590 0.27512110 0.04339155 0.07244506 0.05108870 0.03322535\n",
       "Country 1 0.05463814 0.06780696 0.24466878 0.06627119 0.06750748 0.02874423\n",
       "Country 1 0.08204402 0.07242656 0.06876332 0.30571237 0.08343858 0.05956001\n",
       "Country 2 0.07377317 0.07365025 0.08006457 0.06541750 0.30878399 0.03863869\n",
       "Country 2 0.06495778 0.06980486 0.06288174 0.06119484 0.06399134 0.17879935\n",
       "Country 2 0.06622808 0.07168179 0.05496070 0.08222157 0.08848016 0.05063726\n",
       "Country 2 0.05025680 0.06391965 0.06595434 0.06028336 0.05245706 0.04618331\n",
       "Country 3 0.06667493 0.08668017 0.08190868 0.08578475 0.09201611 0.06103877\n",
       "Country 3 0.07162979 0.04745283 0.05637931 0.04808018 0.06824956 0.03059281\n",
       "Country 3 0.06586435 0.05894555 0.06799934 0.05708022 0.06589600 0.04696569\n",
       "Country 3 0.07371361 0.07381009 0.07072708 0.05219054 0.07683079 0.04091256\n",
       "          Country 2  Country 2  Country 3  Country 3  Country 3  Country 3 \n",
       "Country 1 0.08176278 0.06418860 0.06742030 0.06376264 0.05104001 0.04947315\n",
       "Country 1 0.07453624 0.07914726 0.07216674 0.07322948 0.04617233 0.04373084\n",
       "Country 1 0.06653682 0.05907516 0.06035988 0.06349164 0.05689808 0.04899433\n",
       "Country 1 0.10785052 0.09462882 0.10349074 0.07072136 0.08780660 0.05274034\n",
       "Country 2 0.09289324 0.08131021 0.07117263 0.06723449 0.06340035 0.06588728\n",
       "Country 2 0.06276937 0.07613403 0.06955485 0.06542866 0.06342070 0.05547947\n",
       "Country 2 0.31560706 0.07558015 0.09738170 0.07105419 0.07329235 0.04751413\n",
       "Country 2 0.06405856 0.27422593 0.07322670 0.06993749 0.05602693 0.04159074\n",
       "Country 3 0.10406011 0.09789061 0.35489963 0.07337748 0.06432699 0.08047788\n",
       "Country 3 0.07612090 0.05977846 0.07557340 0.26163453 0.04747610 0.04173606\n",
       "Country 3 0.08393446 0.08067404 0.06960238 0.05234511 0.27880348 0.05612925\n",
       "Country 3 0.07058451 0.07144602 0.06405841 0.05619354 0.07294376 0.24027194"
      ]
     },
     "metadata": {},
     "output_type": "display_data"
    }
   ],
   "source": [
    "emissiondyads <- sweep(L, MARGIN = 1, m, FUN = `*`)\n",
    "emissiondyads"
   ]
  }
 ],
 "metadata": {
  "kernelspec": {
   "display_name": "R",
   "language": "R",
   "name": "ir"
  },
  "language_info": {
   "codemirror_mode": "r",
   "file_extension": ".r",
   "mimetype": "text/x-r-source",
   "name": "R",
   "pygments_lexer": "r",
   "version": "3.5.2"
  }
 },
 "nbformat": 4,
 "nbformat_minor": 2
}
